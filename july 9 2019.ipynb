{
 "cells": [
  {
   "cell_type": "markdown",
   "metadata": {},
   "source": [
    "# Day objectives\n",
    "### Python Data Structures\n",
    "###     Lists\n",
    "###     Tuples\n",
    "###     Dictionaries\n",
    "### Basic Program sets on Data Structures\n",
    "### Advanced Problem set\n",
    "### Contact Application(Dictionary object)\n",
    "# Data Structures\n",
    "### To store,search and sort the data\n"
   ]
  },
  {
   "cell_type": "markdown",
   "metadata": {},
   "source": [
    "## Python data structures\n",
    "### lists\n",
    "#### it is one of the common data structures supported by python, the list items are seperated by square brackets\n",
    "### Examples\n",
    "#### List1=[\"gitam\",12,10,\"Hyderabad\"]"
   ]
  },
  {
   "cell_type": "code",
   "execution_count": 1,
   "metadata": {},
   "outputs": [
    {
     "name": "stdout",
     "output_type": "stream",
     "text": [
      "[8, 9, 6, 5, 4]\n",
      "8\n",
      "4\n",
      "5\n"
     ]
    }
   ],
   "source": [
    "list=[8,9,6,5,4]\n",
    "print(list)  #access the entire list\n",
    "print(list[0])  #access the first item list\n",
    "print(list[-1]) #access the last item\n",
    "print(list[-2]) #access the last second item"
   ]
  },
  {
   "cell_type": "code",
   "execution_count": 4,
   "metadata": {},
   "outputs": [
    {
     "ename": "IndentationError",
     "evalue": "unexpected indent (<ipython-input-4-fe89681bcd7f>, line 3)",
     "output_type": "error",
     "traceback": [
      "\u001b[1;36m  File \u001b[1;32m\"<ipython-input-4-fe89681bcd7f>\"\u001b[1;36m, line \u001b[1;32m3\u001b[0m\n\u001b[1;33m    print(li)\u001b[0m\n\u001b[1;37m    ^\u001b[0m\n\u001b[1;31mIndentationError\u001b[0m\u001b[1;31m:\u001b[0m unexpected indent\n"
     ]
    }
   ],
   "source": [
    "# update the list item values using index(Direct Referencing)\n",
    "li = [\"gitam\",\"python\",1989,2002]\n",
    "     print(li)\n",
    "     li[2] = 2019\n",
    "     print(li)"
   ]
  },
  {
   "cell_type": "code",
   "execution_count": 5,
   "metadata": {},
   "outputs": [
    {
     "ename": "NameError",
     "evalue": "name 'li' is not defined",
     "output_type": "error",
     "traceback": [
      "\u001b[1;31m---------------------------------------------------------------------------\u001b[0m",
      "\u001b[1;31mNameError\u001b[0m                                 Traceback (most recent call last)",
      "\u001b[1;32m<ipython-input-5-e98aa1246591>\u001b[0m in \u001b[0;36m<module>\u001b[1;34m\u001b[0m\n\u001b[0;32m      1\u001b[0m \u001b[1;31m# delete the specific item in the list\u001b[0m\u001b[1;33m\u001b[0m\u001b[1;33m\u001b[0m\u001b[1;33m\u001b[0m\u001b[0m\n\u001b[1;32m----> 2\u001b[1;33m \u001b[0mprint\u001b[0m\u001b[1;33m(\u001b[0m\u001b[0mli\u001b[0m\u001b[1;33m)\u001b[0m\u001b[1;33m\u001b[0m\u001b[1;33m\u001b[0m\u001b[0m\n\u001b[0m\u001b[0;32m      3\u001b[0m \u001b[1;32mdel\u001b[0m \u001b[0mli\u001b[0m\u001b[1;33m[\u001b[0m\u001b[1;36m2\u001b[0m\u001b[1;33m]\u001b[0m\u001b[1;33m\u001b[0m\u001b[1;33m\u001b[0m\u001b[0m\n\u001b[0;32m      4\u001b[0m \u001b[0mprint\u001b[0m\u001b[1;33m(\u001b[0m\u001b[0mli\u001b[0m\u001b[1;33m)\u001b[0m\u001b[1;33m\u001b[0m\u001b[1;33m\u001b[0m\u001b[0m\n",
      "\u001b[1;31mNameError\u001b[0m: name 'li' is not defined"
     ]
    }
   ],
   "source": [
    "# delete the specific item in the list\n",
    "print(li)\n",
    "del li[2]\n",
    "print(li)"
   ]
  },
  {
   "cell_type": "code",
   "execution_count": 6,
   "metadata": {},
   "outputs": [
    {
     "name": "stdout",
     "output_type": "stream",
     "text": [
      "5\n",
      "[1, 9, 6, 18, 2, 1, 9, 6, 18, 2]\n",
      "5\n",
      "True\n",
      "False\n",
      "196182"
     ]
    }
   ],
   "source": [
    "# Basic list operations\n",
    "lst1 = [1,9,6,18,2]\n",
    "print(len(lst1)) # len of the list\n",
    "print(lst1 * 2) # repetation\n",
    "print(len(lst1))\n",
    "print(9 in lst1)  # list item is present or not\n",
    "print(15 in lst1) \n",
    "# access the list items using iterations\n",
    "for x in range(len(lst1)):\n",
    "    print(lst1[x],end='')"
   ]
  },
  {
   "cell_type": "code",
   "execution_count": 7,
   "metadata": {},
   "outputs": [
    {
     "name": "stdout",
     "output_type": "stream",
     "text": [
      "1\n",
      "18\n",
      "36\n",
      "7\n",
      "13.5\n"
     ]
    }
   ],
   "source": [
    "# Function of the list\n",
    "lst1\n",
    "print(min(lst1)) # min item/element of the list\n",
    "print(max(lst1)) # max element of the list\n",
    "print(sum(lst1)) # sum of all elements of the list\n",
    "print(sum(lst1)//len(lst1)) # average of list elements\n",
    "print(sum(lst1[1::2])/len(lst1[1::2])) # average of all"
   ]
  },
  {
   "cell_type": "code",
   "execution_count": 13,
   "metadata": {},
   "outputs": [
    {
     "name": "stdout",
     "output_type": "stream",
     "text": [
      "[2, 4, 6, 8, 12, 24]\n",
      "[2, 4, 56, 6, 8, 12, 24]\n",
      "[2, 4, 56, 6, 8, 12, 24]\n",
      "[2, 4, 6, 8, 12, 24, 56]\n",
      "[2, 4, 6, 8, 12, 24]\n",
      "[2, 6, 8, 12, 24]\n",
      "[45, 23, 123, 24, 12, 8, 6, 2]\n",
      "[45, 23, 24, 12, 8, 6, 2]\n"
     ]
    }
   ],
   "source": [
    "# methods of list object\n",
    "lst1=[2,4,6,8,12]\n",
    "lst1.append(24) # adding a new element at the end of the list\n",
    "print(lst1)\n",
    "lst1.insert(2,56) # adding an element at particular index\n",
    "print(lst1)\n",
    "lst1.count(18) # return the value how many times the object repeated\n",
    "print(lst1)\n",
    "lst1.index(56)\n",
    "lst1.sort() # remove the last element fom the list\n",
    "print(lst1)\n",
    "lst1.pop() # remove the last element from the list\n",
    "print(lst1)\n",
    "lst1.pop(1) # remove the element from a particular index\n",
    "print(lst1)\n",
    "lst2 = [123,23,45]\n",
    "lst1.extend(lst2) # merge the list2 into list1\n",
    "lst1.reverse() # reverse the list\n",
    "print(lst1)\n",
    "lst1.remove(123) # remove the elements from the list\n",
    "print(lst1)"
   ]
  },
  {
   "cell_type": "code",
   "execution_count": 14,
   "metadata": {},
   "outputs": [],
   "source": [
    "# functions\n",
    "# input:list\n",
    "# output:formatted output\n",
    "# test case:\n",
    "# [1,2,3,4,5]--[1,3,8,15,5]\n",
    "# [6,5,2,8,2]--[6,12,40,4,2]"
   ]
  },
  {
   "cell_type": "code",
   "execution_count": 15,
   "metadata": {},
   "outputs": [
    {
     "ename": "SyntaxError",
     "evalue": "invalid syntax (<ipython-input-15-3915540869fa>, line 8)",
     "output_type": "error",
     "traceback": [
      "\u001b[1;36m  File \u001b[1;32m\"<ipython-input-15-3915540869fa>\"\u001b[1;36m, line \u001b[1;32m8\u001b[0m\n\u001b[1;33m    elif li[x-1] % 2 ==  and li[x+1] %2 == 0:\u001b[0m\n\u001b[1;37m                           ^\u001b[0m\n\u001b[1;31mSyntaxError\u001b[0m\u001b[1;31m:\u001b[0m invalid syntax\n"
     ]
    }
   ],
   "source": [
    "# test cases:\n",
    "# [1,6,9,4,16,19,22]--1 9 19 22\n",
    "def linearsearch(li):\n",
    "    # implement the logic\n",
    "    for x in range(len(li)):\n",
    "        if x==0 or x==len(li) - 1:\n",
    "            print(li[x],end=\"\")\n",
    "        elif li[x-1] % 2 ==  and li[x+1] %2 == 0:\n",
    "            print(li[x],end=\"\")\n",
    "    return\n",
    "li = [1,6,9,4,16,19,22]\n",
    "linearsearch(li) # 1 9 19 22"
   ]
  },
  {
   "cell_type": "code",
   "execution_count": 16,
   "metadata": {},
   "outputs": [
    {
     "data": {
      "text/plain": [
       "[1, 4, 5, 6, 9, 9]"
      ]
     },
     "execution_count": 16,
     "metadata": {},
     "output_type": "execute_result"
    }
   ],
   "source": [
    "def numberlistconversion(n):\n",
    "    li=[]\n",
    "    while n !=0:\n",
    "        r=n%10\n",
    "        li.append(r)\n",
    "        n=n//10\n",
    "    li.reverse()\n",
    "    return li\n",
    "numberlistconversion(145699)#[1,4,5,6,9]"
   ]
  },
  {
   "cell_type": "code",
   "execution_count": 19,
   "metadata": {},
   "outputs": [
    {
     "data": {
      "text/plain": [
       "0"
      ]
     },
     "execution_count": 19,
     "metadata": {},
     "output_type": "execute_result"
    }
   ],
   "source": [
    "# function to count the occurances in a string\n",
    "# \"python programming\",p->2\n",
    "# \"python programming\",m->2\n",
    "def countcharoccurances(s,c):\n",
    "    cnt = 0\n",
    "    for ch in s:\n",
    "        if ch == c:\n",
    "            cnt += 1\n",
    "        return cnt\n",
    "countcharoccurances(\"python programming\",'m')\n",
    "            \n",
    "        "
   ]
  },
  {
   "cell_type": "markdown",
   "metadata": {},
   "source": [
    "# string to list conversion\n",
    "###  input will be string\n",
    "###   expected output will be list"
   ]
  },
  {
   "cell_type": "code",
   "execution_count": 20,
   "metadata": {},
   "outputs": [
    {
     "data": {
      "text/plain": [
       "[1, 2, 3, 4, 5, 6]"
      ]
     },
     "execution_count": 20,
     "metadata": {},
     "output_type": "execute_result"
    }
   ],
   "source": [
    "#function to convert the string to list\n",
    "# test case\n",
    "# \"1 2 3 4 5 6\"--[1,2,3,4,5,6]\n",
    "def stringtolistconversion(s):\n",
    "    li=s.split()\n",
    "    numberslist=[]\n",
    "    for i in li:\n",
    "        numberslist.append(int(i))\n",
    "    return numberslist\n",
    "s=\"1 2 3 4 5 6\"\n",
    "stringtolistconversion(s) # [1,2,3,4,5,6]"
   ]
  },
  {
   "cell_type": "markdown",
   "metadata": {},
   "source": [
    "# sorting algorithms:\n",
    "### all the algorithms makes the list into ascending order\n",
    "### bubble sort\n",
    "### selection sort\n",
    "### insertion sort"
   ]
  },
  {
   "cell_type": "code",
   "execution_count": 21,
   "metadata": {},
   "outputs": [
    {
     "data": {
      "text/plain": [
       "[1, 19, 6, 18, 3, 25]"
      ]
     },
     "execution_count": 21,
     "metadata": {},
     "output_type": "execute_result"
    }
   ],
   "source": [
    "# function to represebt bubble sort\n",
    "def bubblesort(li):\n",
    "    for i in range(len(li)-1):\n",
    "        for j in range (len(li)-1):\n",
    "            if li[j]>li[j+1]:\n",
    "                li[j],li[j+1]=li[j+1],li[j]\n",
    "        return li\n",
    "li=[19,1,25,6,18,3]\n",
    "bubblesort(li)"
   ]
  },
  {
   "cell_type": "code",
   "execution_count": null,
   "metadata": {},
   "outputs": [],
   "source": []
  },
  {
   "cell_type": "code",
   "execution_count": null,
   "metadata": {},
   "outputs": [],
   "source": []
  },
  {
   "cell_type": "code",
   "execution_count": null,
   "metadata": {},
   "outputs": [],
   "source": []
  },
  {
   "cell_type": "code",
   "execution_count": null,
   "metadata": {},
   "outputs": [],
   "source": []
  },
  {
   "cell_type": "code",
   "execution_count": null,
   "metadata": {},
   "outputs": [],
   "source": []
  }
 ],
 "metadata": {
  "kernelspec": {
   "display_name": "Python 3",
   "language": "python",
   "name": "python3"
  },
  "language_info": {
   "codemirror_mode": {
    "name": "ipython",
    "version": 3
   },
   "file_extension": ".py",
   "mimetype": "text/x-python",
   "name": "python",
   "nbconvert_exporter": "python",
   "pygments_lexer": "ipython3",
   "version": "3.7.3"
  }
 },
 "nbformat": 4,
 "nbformat_minor": 2
}
